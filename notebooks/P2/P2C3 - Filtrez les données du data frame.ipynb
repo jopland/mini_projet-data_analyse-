{
  "cells": [
    {
      "cell_type": "markdown",
      "id": "714ee608",
      "metadata": {
        "id": "714ee608"
      },
      "source": [
        "![openclassrooms](https://s3.eu-west-1.amazonaws.com/course.oc-static.com/courses/6204541/1+HnqdJ-5ofxiPP9HIxdNdpw.jpeg)\n",
        "\n",
        "# Filtrez les données du dataframe\n",
        "\n",
        "Nous allons à présent aller un peu plus loin dans la manipulation de nos prêts bancaires. Les demandes suivantes ont été formulées par le responsable du service prêt de notre établissement :\n",
        "- Le taux d’endettement autorisé est de 35%. Pourriez vous me communiquer le nombre de personnes ayant dépassé ce seuil ?\n",
        "- Même question, mais cette fois ci uniquement sur l’agence Parisienne\n",
        "- Pour faciliter le traitement d’éventuelles futures demandes de prêts, pourriez vous ajouter une variable nommée `risque` qui nous permettrait d’identifier les clients risqués facilement\n",
        "- Combien de prêts automobiles ont été accordés ? Quel est le coût total moyen de ces derniers ?\n",
        "- Quel est le bénéfice mensuel total réalisé par l’agence Toulousaine ?\n",
        "\n",
        "Vous allez devoir mettre en application l’ensemble des processus de sélection présentés ci-dessus pour répondre à ces différentes demandes."
      ]
    },
    {
      "cell_type": "code",
      "execution_count": 1,
      "id": "e9d28824",
      "metadata": {
        "id": "e9d28824"
      },
      "outputs": [],
      "source": [
        "import numpy as np\n",
        "import pandas as pd"
      ]
    },
    {
      "cell_type": "code",
      "execution_count": 2,
      "id": "ffe59c9b",
      "metadata": {
        "id": "ffe59c9b",
        "outputId": "baa6dd71-613f-47ab-d284-328832c9f746",
        "colab": {
          "base_uri": "https://localhost:8080/",
          "height": 206
        }
      },
      "outputs": [
        {
          "output_type": "execute_result",
          "data": {
            "text/plain": [
              "   identifiant      ville     CP  revenu  remboursement  duree        type  \\\n",
              "0            0   TOULOUSE  31100  3669.0        1130.05    240  immobilier   \n",
              "1            1      PARIS  75009  5310.0         240.00     64  automobile   \n",
              "2            1      PARIS  75009  5310.0        1247.85    300  immobilier   \n",
              "3            2  MARSEILLE  13010  1873.0         552.54    240  immobilier   \n",
              "4            3  MARSEILLE  13010  1684.0         586.03    180  immobilier   \n",
              "\n",
              "   taux_interet  taux_endettement  cout_total  benefices  \n",
              "0         1.168             30.80    271212.0     131.99  \n",
              "1         3.701              4.52     15360.0      23.69  \n",
              "2         1.173             23.50    374355.0     182.97  \n",
              "3         0.972             29.50    132609.6      53.71  \n",
              "4         1.014             34.80    105485.4      44.57  "
            ],
            "text/html": [
              "\n",
              "  <div id=\"df-b5d1ccc3-dc25-4eb7-9ab4-51dc57647118\">\n",
              "    <div class=\"colab-df-container\">\n",
              "      <div>\n",
              "<style scoped>\n",
              "    .dataframe tbody tr th:only-of-type {\n",
              "        vertical-align: middle;\n",
              "    }\n",
              "\n",
              "    .dataframe tbody tr th {\n",
              "        vertical-align: top;\n",
              "    }\n",
              "\n",
              "    .dataframe thead th {\n",
              "        text-align: right;\n",
              "    }\n",
              "</style>\n",
              "<table border=\"1\" class=\"dataframe\">\n",
              "  <thead>\n",
              "    <tr style=\"text-align: right;\">\n",
              "      <th></th>\n",
              "      <th>identifiant</th>\n",
              "      <th>ville</th>\n",
              "      <th>CP</th>\n",
              "      <th>revenu</th>\n",
              "      <th>remboursement</th>\n",
              "      <th>duree</th>\n",
              "      <th>type</th>\n",
              "      <th>taux_interet</th>\n",
              "      <th>taux_endettement</th>\n",
              "      <th>cout_total</th>\n",
              "      <th>benefices</th>\n",
              "    </tr>\n",
              "  </thead>\n",
              "  <tbody>\n",
              "    <tr>\n",
              "      <th>0</th>\n",
              "      <td>0</td>\n",
              "      <td>TOULOUSE</td>\n",
              "      <td>31100</td>\n",
              "      <td>3669.0</td>\n",
              "      <td>1130.05</td>\n",
              "      <td>240</td>\n",
              "      <td>immobilier</td>\n",
              "      <td>1.168</td>\n",
              "      <td>30.80</td>\n",
              "      <td>271212.0</td>\n",
              "      <td>131.99</td>\n",
              "    </tr>\n",
              "    <tr>\n",
              "      <th>1</th>\n",
              "      <td>1</td>\n",
              "      <td>PARIS</td>\n",
              "      <td>75009</td>\n",
              "      <td>5310.0</td>\n",
              "      <td>240.00</td>\n",
              "      <td>64</td>\n",
              "      <td>automobile</td>\n",
              "      <td>3.701</td>\n",
              "      <td>4.52</td>\n",
              "      <td>15360.0</td>\n",
              "      <td>23.69</td>\n",
              "    </tr>\n",
              "    <tr>\n",
              "      <th>2</th>\n",
              "      <td>1</td>\n",
              "      <td>PARIS</td>\n",
              "      <td>75009</td>\n",
              "      <td>5310.0</td>\n",
              "      <td>1247.85</td>\n",
              "      <td>300</td>\n",
              "      <td>immobilier</td>\n",
              "      <td>1.173</td>\n",
              "      <td>23.50</td>\n",
              "      <td>374355.0</td>\n",
              "      <td>182.97</td>\n",
              "    </tr>\n",
              "    <tr>\n",
              "      <th>3</th>\n",
              "      <td>2</td>\n",
              "      <td>MARSEILLE</td>\n",
              "      <td>13010</td>\n",
              "      <td>1873.0</td>\n",
              "      <td>552.54</td>\n",
              "      <td>240</td>\n",
              "      <td>immobilier</td>\n",
              "      <td>0.972</td>\n",
              "      <td>29.50</td>\n",
              "      <td>132609.6</td>\n",
              "      <td>53.71</td>\n",
              "    </tr>\n",
              "    <tr>\n",
              "      <th>4</th>\n",
              "      <td>3</td>\n",
              "      <td>MARSEILLE</td>\n",
              "      <td>13010</td>\n",
              "      <td>1684.0</td>\n",
              "      <td>586.03</td>\n",
              "      <td>180</td>\n",
              "      <td>immobilier</td>\n",
              "      <td>1.014</td>\n",
              "      <td>34.80</td>\n",
              "      <td>105485.4</td>\n",
              "      <td>44.57</td>\n",
              "    </tr>\n",
              "  </tbody>\n",
              "</table>\n",
              "</div>\n",
              "      <button class=\"colab-df-convert\" onclick=\"convertToInteractive('df-b5d1ccc3-dc25-4eb7-9ab4-51dc57647118')\"\n",
              "              title=\"Convert this dataframe to an interactive table.\"\n",
              "              style=\"display:none;\">\n",
              "        \n",
              "  <svg xmlns=\"http://www.w3.org/2000/svg\" height=\"24px\"viewBox=\"0 0 24 24\"\n",
              "       width=\"24px\">\n",
              "    <path d=\"M0 0h24v24H0V0z\" fill=\"none\"/>\n",
              "    <path d=\"M18.56 5.44l.94 2.06.94-2.06 2.06-.94-2.06-.94-.94-2.06-.94 2.06-2.06.94zm-11 1L8.5 8.5l.94-2.06 2.06-.94-2.06-.94L8.5 2.5l-.94 2.06-2.06.94zm10 10l.94 2.06.94-2.06 2.06-.94-2.06-.94-.94-2.06-.94 2.06-2.06.94z\"/><path d=\"M17.41 7.96l-1.37-1.37c-.4-.4-.92-.59-1.43-.59-.52 0-1.04.2-1.43.59L10.3 9.45l-7.72 7.72c-.78.78-.78 2.05 0 2.83L4 21.41c.39.39.9.59 1.41.59.51 0 1.02-.2 1.41-.59l7.78-7.78 2.81-2.81c.8-.78.8-2.07 0-2.86zM5.41 20L4 18.59l7.72-7.72 1.47 1.35L5.41 20z\"/>\n",
              "  </svg>\n",
              "      </button>\n",
              "      \n",
              "  <style>\n",
              "    .colab-df-container {\n",
              "      display:flex;\n",
              "      flex-wrap:wrap;\n",
              "      gap: 12px;\n",
              "    }\n",
              "\n",
              "    .colab-df-convert {\n",
              "      background-color: #E8F0FE;\n",
              "      border: none;\n",
              "      border-radius: 50%;\n",
              "      cursor: pointer;\n",
              "      display: none;\n",
              "      fill: #1967D2;\n",
              "      height: 32px;\n",
              "      padding: 0 0 0 0;\n",
              "      width: 32px;\n",
              "    }\n",
              "\n",
              "    .colab-df-convert:hover {\n",
              "      background-color: #E2EBFA;\n",
              "      box-shadow: 0px 1px 2px rgba(60, 64, 67, 0.3), 0px 1px 3px 1px rgba(60, 64, 67, 0.15);\n",
              "      fill: #174EA6;\n",
              "    }\n",
              "\n",
              "    [theme=dark] .colab-df-convert {\n",
              "      background-color: #3B4455;\n",
              "      fill: #D2E3FC;\n",
              "    }\n",
              "\n",
              "    [theme=dark] .colab-df-convert:hover {\n",
              "      background-color: #434B5C;\n",
              "      box-shadow: 0px 1px 3px 1px rgba(0, 0, 0, 0.15);\n",
              "      filter: drop-shadow(0px 1px 2px rgba(0, 0, 0, 0.3));\n",
              "      fill: #FFFFFF;\n",
              "    }\n",
              "  </style>\n",
              "\n",
              "      <script>\n",
              "        const buttonEl =\n",
              "          document.querySelector('#df-b5d1ccc3-dc25-4eb7-9ab4-51dc57647118 button.colab-df-convert');\n",
              "        buttonEl.style.display =\n",
              "          google.colab.kernel.accessAllowed ? 'block' : 'none';\n",
              "\n",
              "        async function convertToInteractive(key) {\n",
              "          const element = document.querySelector('#df-b5d1ccc3-dc25-4eb7-9ab4-51dc57647118');\n",
              "          const dataTable =\n",
              "            await google.colab.kernel.invokeFunction('convertToInteractive',\n",
              "                                                     [key], {});\n",
              "          if (!dataTable) return;\n",
              "\n",
              "          const docLinkHtml = 'Like what you see? Visit the ' +\n",
              "            '<a target=\"_blank\" href=https://colab.research.google.com/notebooks/data_table.ipynb>data table notebook</a>'\n",
              "            + ' to learn more about interactive tables.';\n",
              "          element.innerHTML = '';\n",
              "          dataTable['output_type'] = 'display_data';\n",
              "          await google.colab.output.renderOutput(dataTable, element);\n",
              "          const docLink = document.createElement('div');\n",
              "          docLink.innerHTML = docLinkHtml;\n",
              "          element.appendChild(docLink);\n",
              "        }\n",
              "      </script>\n",
              "    </div>\n",
              "  </div>\n",
              "  "
            ]
          },
          "metadata": {},
          "execution_count": 2
        }
      ],
      "source": [
        "# traitement réalisés précédemment\n",
        "prets = pd.read_csv('https://raw.githubusercontent.com/benjaminmrl/data-4452741/main/prets.csv')\n",
        "\n",
        "# calcul du taux d'endettement\n",
        "prets['taux_endettement'] = round(prets['remboursement'] * 100 / prets['revenu'], 2)\n",
        "\n",
        "# renommer taux en taux_interet\n",
        "prets.rename(columns={'taux':'taux_interet'}, inplace=True)\n",
        "\n",
        "# calculer le cout total du pret\n",
        "prets['cout_total'] = prets['remboursement'] * prets['duree']\n",
        "\n",
        "# calculer les bénéfices mensuels réalisés\n",
        "prets['benefices'] = round((prets['cout_total'] * prets['taux_interet']/100)/(24), 2)\n",
        "\n",
        "prets.head()"
      ]
    },
    {
      "cell_type": "markdown",
      "id": "48c3c183",
      "metadata": {
        "id": "48c3c183"
      },
      "source": [
        "Le taux d’endettement autorisé est de 35%. Pourriez vous me communiquer le nombre de personnes ayant dépassé ce seuil ? vous pourrez me stocker la liste dans une variable à part nommé `clients_risque`"
      ]
    },
    {
      "cell_type": "code",
      "execution_count": 30,
      "id": "d5726ae1",
      "metadata": {
        "scrolled": true,
        "id": "d5726ae1",
        "outputId": "a36572f4-035b-47c9-fabc-815e69beac39",
        "colab": {
          "base_uri": "https://localhost:8080/"
        }
      },
      "outputs": [
        {
          "output_type": "stream",
          "name": "stdout",
          "text": [
            "58 personnes ont dépassé le seuil d'endettement\n"
          ]
        }
      ],
      "source": [
        "nombre_client_risque = prets.loc[prets['taux_endettement'] > 35,:].shape[0]\n",
        "print(nombre_client_risque,\"personnes ont dépassé le seuil d'endettement\")"
      ]
    },
    {
      "cell_type": "markdown",
      "id": "28e19d74",
      "metadata": {
        "id": "28e19d74"
      },
      "source": [
        "Même question, mais cette fois ci uniquement sur l’agence Parisienne"
      ]
    },
    {
      "cell_type": "code",
      "execution_count": 32,
      "id": "55fe3c2b",
      "metadata": {
        "id": "55fe3c2b",
        "outputId": "f738f63a-5d69-40c4-d601-ea414ffe271d",
        "colab": {
          "base_uri": "https://localhost:8080/"
        }
      },
      "outputs": [
        {
          "output_type": "stream",
          "name": "stdout",
          "text": [
            "16 personnes sur l'agence de paris ont dépassé le seuil d'endettement\n"
          ]
        }
      ],
      "source": [
        "  nombre_client_risque = prets.loc[(prets['taux_endettement'] > 35) & (prets['ville']=='PARIS'),:].shape[0]\n",
        "  print(nombre_client_risque,\"personnes sur l'agence de paris ont dépassé le seuil d'endettement\")\n",
        " "
      ]
    },
    {
      "cell_type": "markdown",
      "id": "59201dc0",
      "metadata": {
        "id": "59201dc0"
      },
      "source": [
        "Pour faciliter le traitement d’éventuelles futures demandes de prêts, pourriez vous ajouter une variable nommée `risque` qui aurait pour valeur `Oui` si le client est risqué (taux d’endettement > 35%), `Non` sinon.\n",
        "Pour se faire, je vous conseille de créer la variable `risque` en l'initialisant à `Non` (ou `Oui`, à votre préférence) et de ne modifier que les lignes concernées par la valeur inverse :"
      ]
    },
    {
      "cell_type": "code",
      "execution_count": 33,
      "id": "b0f38df1",
      "metadata": {
        "id": "b0f38df1"
      },
      "outputs": [],
      "source": [
        "prets['risque'] = 'Non'\n",
        "prets.loc[prets['taux_endettement']>35,'risque'] = 'oui'"
      ]
    },
    {
      "cell_type": "markdown",
      "id": "f168fe6a",
      "metadata": {
        "id": "f168fe6a"
      },
      "source": [
        "Combien de prêts automobiles ont été accordés ? Quel est le coût total moyen de ces derniers ?"
      ]
    },
    {
      "cell_type": "code",
      "execution_count": 41,
      "id": "9e790dc1",
      "metadata": {
        "id": "9e790dc1",
        "outputId": "3d173b89-ca58-486c-d6fb-6268771e197b",
        "colab": {
          "base_uri": "https://localhost:8080/"
        }
      },
      "outputs": [
        {
          "output_type": "stream",
          "name": "stdout",
          "text": [
            "16 prêts automobiles ont été accordés\n",
            "13665.0 Euro\n"
          ]
        }
      ],
      "source": [
        "prets_automobile = prets.loc[prets['type'] == 'automobile',:]\n",
        "print(prets_automobile.shape[0], 'prêts automobiles ont été accordés' )\n",
        "print(prets_automobile['cout_total'].mean(), 'Euro')"
      ]
    },
    {
      "cell_type": "markdown",
      "id": "453a62e3",
      "metadata": {
        "id": "453a62e3"
      },
      "source": [
        "Quel est le bénéfice mensuel total réalisé par l’agence Toulousaine ?"
      ]
    },
    {
      "cell_type": "code",
      "execution_count": 49,
      "id": "b76b8a3e",
      "metadata": {
        "id": "b76b8a3e",
        "outputId": "7eb80208-6055-42ab-a421-7a7f73437472",
        "colab": {
          "base_uri": "https://localhost:8080/"
        }
      },
      "outputs": [
        {
          "output_type": "stream",
          "name": "stdout",
          "text": [
            "bénéfice mensuel total réalisé par l’agence Toulousaine est:  2138.07 Euro\n"
          ]
        }
      ],
      "source": [
        "pret_toulouse = round(prets.loc[prets['ville'] == 'TOULOUSE','benefices'].sum(),2)\n",
        "print(\"bénéfice mensuel total réalisé par l’agence Toulousaine est: \", pret_toulouse,'Euro')"
      ]
    },
    {
      "cell_type": "markdown",
      "id": "518e9313",
      "metadata": {
        "id": "518e9313"
      },
      "source": [
        "Félicitation ! Je vous invite fortement à vérifier vos réponses avec [la correction ci contre](https://colab.research.google.com/github/OpenClassrooms-Student-Center/fr-4452741-decouvrez-les-librairies-python-pour-la-data-science/blob/main/notebooks/P2/P2C3%20-%20Filtrez%20les%20donn%C3%A9es%20du%20data%20frame%20-%20correction.ipynb)."
      ]
    },
    {
      "cell_type": "code",
      "execution_count": null,
      "id": "89cbbccb",
      "metadata": {
        "id": "89cbbccb"
      },
      "outputs": [],
      "source": []
    }
  ],
  "metadata": {
    "kernelspec": {
      "display_name": "Python 3 (ipykernel)",
      "language": "python",
      "name": "python3"
    },
    "language_info": {
      "codemirror_mode": {
        "name": "ipython",
        "version": 3
      },
      "file_extension": ".py",
      "mimetype": "text/x-python",
      "name": "python",
      "nbconvert_exporter": "python",
      "pygments_lexer": "ipython3",
      "version": "3.9.7"
    },
    "colab": {
      "provenance": []
    }
  },
  "nbformat": 4,
  "nbformat_minor": 5
}